{
 "cells": [
  {
   "cell_type": "markdown",
   "id": "fb9df25d-8925-4c9b-bebe-68f543950ce1",
   "metadata": {},
   "source": [
    "# Text Script"
   ]
  },
  {
   "cell_type": "code",
   "execution_count": null,
   "id": "af533f13-bcc6-49c7-aca1-b1b4446d6b8f",
   "metadata": {},
   "outputs": [],
   "source": []
  }
 ],
 "metadata": {
  "kernelspec": {
   "display_name": "Python 3 (ipykernel)",
   "language": "python",
   "name": "python3"
  },
  "language_info": {
   "codemirror_mode": {
    "name": "ipython",
    "version": 3
   },
   "file_extension": ".py",
   "mimetype": "text/x-python",
   "name": "python",
   "nbconvert_exporter": "python",
   "pygments_lexer": "ipython3",
   "version": "3.11.5"
  }
 },
 "nbformat": 4,
 "nbformat_minor": 5
}
