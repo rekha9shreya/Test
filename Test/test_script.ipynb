{
 "cells": [
  {
   "cell_type": "markdown",
   "id": "b4bea2a9-1193-4656-812f-1e7cb3948ce8",
   "metadata": {},
   "source": [
    "# Test Script"
   ]
  },
  {
   "cell_type": "code",
   "execution_count": 1,
   "id": "39a53f4b-a8d8-475a-92fc-be4dbb61f26f",
   "metadata": {
    "tags": []
   },
   "outputs": [
    {
     "name": "stdout",
     "output_type": "stream",
     "text": [
      "Hello Worl\n"
     ]
    }
   ],
   "source": [
    "print(\"Hello Worl\")"
   ]
  },
  {
   "cell_type": "code",
   "execution_count": null,
   "id": "457a9966-5732-41a9-bfe5-00d9f9a065b6",
   "metadata": {},
   "outputs": [],
   "source": []
  }
 ],
 "metadata": {
  "kernelspec": {
   "display_name": "Python 3 (ipykernel)",
   "language": "python",
   "name": "python3"
  },
  "language_info": {
   "codemirror_mode": {
    "name": "ipython",
    "version": 3
   },
   "file_extension": ".py",
   "mimetype": "text/x-python",
   "name": "python",
   "nbconvert_exporter": "python",
   "pygments_lexer": "ipython3",
   "version": "3.11.5"
  }
 },
 "nbformat": 4,
 "nbformat_minor": 5
}
